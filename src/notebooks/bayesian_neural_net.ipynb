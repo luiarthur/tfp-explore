{
 "cells": [
  {
   "cell_type": "code",
   "execution_count": 1,
   "metadata": {},
   "outputs": [],
   "source": [
    "import sys\n",
    "\n",
    "import tensorflow as tf\n",
    "import tensorflow_probability as tfp\n",
    "from tensorflow_probability import distributions as tfd\n",
    "import numpy as np\n",
    "import matplotlib.pyplot as plt\n",
    "from sklearn.preprocessing import StandardScaler\n",
    "\n",
    "sys.path.append('../models')\n",
    "import util"
   ]
  },
  {
   "cell_type": "code",
   "execution_count": 2,
   "metadata": {},
   "outputs": [],
   "source": [
    "# Set random seeds for reproducibility\n",
    "np.random.seed(0)\n",
    "tf.random.set_seed(0)"
   ]
  },
  {
   "cell_type": "code",
   "execution_count": 77,
   "metadata": {},
   "outputs": [],
   "source": [
    "def simulate_data(x=None, shape=None, sd=0, dtype='float32'):\n",
    "    assert not (x is None and shape is None)\n",
    "    \n",
    "    if x is None:\n",
    "        x = np.random.randn(*shape)\n",
    "    \n",
    "    x = x.astype(dtype)\n",
    "    \n",
    "    # y = (0.5 * x) ** 2 + np.sin(x * 8) + np.random.randn(*shape) * sd\n",
    "    y = (0.5 * x) ** 2 + np.sin(x * 4)\n",
    "    \n",
    "    return x, y + np.random.randn(x.shape[0], 1) * sd"
   ]
  },
  {
   "cell_type": "code",
   "execution_count": 78,
   "metadata": {},
   "outputs": [
    {
     "data": {
      "image/png": "[encoded data removed]",
      "text/plain": [
       "<Figure size 432x288 with 1 Axes>"
      ]
     },
     "metadata": {
      "needs_background": "light"
     },
     "output_type": "display_data"
    }
   ],
   "source": [
    "# Simulate data\n",
    "num_obs = 3000\n",
    "x, y = simulate_data(shape=(num_obs, 1), sd=.3)\n",
    "\n",
    "# Plot data\n",
    "plt.scatter(x, y)\n",
    "plt.show()"
   ]
  },
  {
   "cell_type": "code",
   "execution_count": 180,
   "metadata": {},
   "outputs": [],
   "source": [
    "# Bayesian model\n",
    "# model = tf.keras.Sequential([\n",
    "#     tfp.layers.DenseVariational(8,\n",
    "#                                 util.make_default_dense_guide,\n",
    "#                                 util.make_default_dense_prior,\n",
    "#                                 kl_weight=1/num_obs,\n",
    "#                                 activation='sigmoid'),\n",
    "#     tfp.layers.DenseVariational(2,\n",
    "#                                 util.make_default_dense_guide,\n",
    "#                                 util.make_default_dense_prior,\n",
    "#                                 kl_weight=1/num_obs),\n",
    "#     tfp.layers.DistributionLambda(lambda t:\n",
    "#         tfd.Normal(t[:, 0], util.smooth_relu(t[:, 1]))\n",
    "#     )\n",
    "# ])\n",
    "\n",
    "# Model\n",
    "reg = tf.keras.regularizers.l2(0)\n",
    "act = 'sigmoid'\n",
    "model = tf.keras.Sequential([\n",
    "    tf.keras.layers.Dense(8, kernel_regularizer=reg, activation=act),\n",
    "    tf.keras.layers.Dense(1, kernel_regularizer=reg)\n",
    "])\n",
    "model(x);"
   ]
  },
  {
   "cell_type": "code",
   "execution_count": 181,
   "metadata": {},
   "outputs": [],
   "source": [
    "opt = tf.keras.optimizers.Adam(.1)\n",
    "model.compile(optimizer=opt, loss='mse')\n",
    "\n",
    "# Bayesian\n",
    "# opt = tf.keras.optimizers.Adam(.1)\n",
    "# model.compile(optimizer=opt, loss=util.neg_loglike)"
   ]
  },
  {
   "cell_type": "code",
   "execution_count": 182,
   "metadata": {},
   "outputs": [
    {
     "name": "stdout",
     "output_type": "stream",
     "text": [
      "Model: \"sequential_35\"\n",
      "_________________________________________________________________\n",
      "Layer (type)                 Output Shape              Param #   \n",
      "=================================================================\n",
      "dense_50 (Dense)             multiple                  16        \n",
      "_________________________________________________________________\n",
      "dense_51 (Dense)             multiple                  9         \n",
      "=================================================================\n",
      "Total params: 25\n",
      "Trainable params: 25\n",
      "Non-trainable params: 0\n",
      "_________________________________________________________________\n"
     ]
    }
   ],
   "source": [
    "model.summary()"
   ]
  },
  {
   "cell_type": "code",
   "execution_count": 183,
   "metadata": {},
   "outputs": [
    {
     "name": "stdout",
     "output_type": "stream",
     "text": [
      "Train on 3000 samples\n",
      "Epoch 1/100\n",
      "3000/3000 [==============================] - 0s 104us/sample - loss: 0.7372\n",
      "Epoch 2/100\n",
      "3000/3000 [==============================] - 0s 16us/sample - loss: 0.6738\n",
      "Epoch 3/100\n",
      "3000/3000 [==============================] - 0s 16us/sample - loss: 0.6221\n",
      "Epoch 4/100\n",
      "3000/3000 [==============================] - 0s 29us/sample - loss: 0.5461\n",
      "Epoch 5/100\n",
      "3000/3000 [==============================] - 0s 36us/sample - loss: 0.4182\n",
      "Epoch 6/100\n",
      "3000/3000 [==============================] - 0s 34us/sample - loss: 0.3659\n",
      "Epoch 7/100\n",
      "3000/3000 [==============================] - 0s 22us/sample - loss: 0.3350\n",
      "Epoch 8/100\n",
      "3000/3000 [==============================] - 0s 20us/sample - loss: 0.2904\n",
      "Epoch 9/100\n",
      "3000/3000 [==============================] - 0s 40us/sample - loss: 0.2338\n",
      "Epoch 10/100\n",
      "3000/3000 [==============================] - 0s 49us/sample - loss: 0.2171\n",
      "Epoch 11/100\n",
      "3000/3000 [==============================] - 0s 42us/sample - loss: 0.2005\n",
      "Epoch 12/100\n",
      "3000/3000 [==============================] - 0s 46us/sample - loss: 0.1984\n",
      "Epoch 13/100\n",
      "3000/3000 [==============================] - 0s 44us/sample - loss: 0.1826\n",
      "Epoch 14/100\n",
      "3000/3000 [==============================] - 0s 40us/sample - loss: 0.1798\n",
      "Epoch 15/100\n",
      "3000/3000 [==============================] - 0s 39us/sample - loss: 0.1823\n",
      "Epoch 16/100\n",
      "3000/3000 [==============================] - 0s 42us/sample - loss: 0.1823\n",
      "Epoch 17/100\n",
      "3000/3000 [==============================] - 0s 40us/sample - loss: 0.1780\n",
      "Epoch 18/100\n",
      "3000/3000 [==============================] - 0s 41us/sample - loss: 0.1822\n",
      "Epoch 19/100\n",
      "3000/3000 [==============================] - 0s 43us/sample - loss: 0.1765\n",
      "Epoch 20/100\n",
      "3000/3000 [==============================] - 0s 41us/sample - loss: 0.1702\n",
      "Epoch 21/100\n",
      "3000/3000 [==============================] - 0s 45us/sample - loss: 0.1709\n",
      "Epoch 22/100\n",
      "3000/3000 [==============================] - 0s 55us/sample - loss: 0.1649\n",
      "Epoch 23/100\n",
      "3000/3000 [==============================] - 0s 47us/sample - loss: 0.1671\n",
      "Epoch 24/100\n",
      "3000/3000 [==============================] - 0s 45us/sample - loss: 0.1679\n",
      "Epoch 25/100\n",
      "3000/3000 [==============================] - 0s 48us/sample - loss: 0.1661\n",
      "Epoch 26/100\n",
      "3000/3000 [==============================] - 0s 47us/sample - loss: 0.1659\n",
      "Epoch 27/100\n",
      "3000/3000 [==============================] - 0s 53us/sample - loss: 0.1599\n",
      "Epoch 28/100\n",
      "3000/3000 [==============================] - 0s 44us/sample - loss: 0.1595\n",
      "Epoch 29/100\n",
      "3000/3000 [==============================] - 0s 45us/sample - loss: 0.1615\n",
      "Epoch 30/100\n",
      "3000/3000 [==============================] - 0s 40us/sample - loss: 0.1586\n",
      "Epoch 31/100\n",
      "3000/3000 [==============================] - 0s 41us/sample - loss: 0.1566\n",
      "Epoch 32/100\n",
      "3000/3000 [==============================] - 0s 42us/sample - loss: 0.1595\n",
      "Epoch 33/100\n",
      "3000/3000 [==============================] - 0s 42us/sample - loss: 0.1584\n",
      "Epoch 34/100\n",
      "3000/3000 [==============================] - 0s 44us/sample - loss: 0.1520\n",
      "Epoch 35/100\n",
      "3000/3000 [==============================] - 0s 42us/sample - loss: 0.1481\n",
      "Epoch 36/100\n",
      "3000/3000 [==============================] - 0s 41us/sample - loss: 0.1535\n",
      "Epoch 37/100\n",
      "3000/3000 [==============================] - 0s 41us/sample - loss: 0.1479\n",
      "Epoch 38/100\n",
      "3000/3000 [==============================] - 0s 40us/sample - loss: 0.1453\n",
      "Epoch 39/100\n",
      "3000/3000 [==============================] - 0s 43us/sample - loss: 0.1441\n",
      "Epoch 40/100\n",
      "3000/3000 [==============================] - 0s 45us/sample - loss: 0.1381\n",
      "Epoch 41/100\n",
      "3000/3000 [==============================] - 0s 42us/sample - loss: 0.1312\n",
      "Epoch 42/100\n",
      "3000/3000 [==============================] - 0s 42us/sample - loss: 0.1270\n",
      "Epoch 43/100\n",
      "3000/3000 [==============================] - 0s 45us/sample - loss: 0.1283\n",
      "Epoch 44/100\n",
      "3000/3000 [==============================] - 0s 42us/sample - loss: 0.1227\n",
      "Epoch 45/100\n",
      "3000/3000 [==============================] - 0s 40us/sample - loss: 0.1217\n",
      "Epoch 46/100\n",
      "3000/3000 [==============================] - 0s 55us/sample - loss: 0.1208\n",
      "Epoch 47/100\n",
      "3000/3000 [==============================] - 0s 46us/sample - loss: 0.1140\n",
      "Epoch 48/100\n",
      "3000/3000 [==============================] - 0s 56us/sample - loss: 0.1117\n",
      "Epoch 49/100\n",
      "3000/3000 [==============================] - 0s 44us/sample - loss: 0.1149\n",
      "Epoch 50/100\n",
      "3000/3000 [==============================] - 0s 42us/sample - loss: 0.1126\n",
      "Epoch 51/100\n",
      "3000/3000 [==============================] - 0s 40us/sample - loss: 0.1125\n",
      "Epoch 52/100\n",
      "3000/3000 [==============================] - 0s 43us/sample - loss: 0.1083\n",
      "Epoch 53/100\n",
      "3000/3000 [==============================] - 0s 46us/sample - loss: 0.1094\n",
      "Epoch 54/100\n",
      "3000/3000 [==============================] - 0s 46us/sample - loss: 0.1064\n",
      "Epoch 55/100\n",
      "3000/3000 [==============================] - 0s 41us/sample - loss: 0.1076\n",
      "Epoch 56/100\n",
      "3000/3000 [==============================] - 0s 41us/sample - loss: 0.1058\n",
      "Epoch 57/100\n",
      "3000/3000 [==============================] - 0s 38us/sample - loss: 0.1045\n",
      "Epoch 58/100\n",
      "3000/3000 [==============================] - 0s 24us/sample - loss: 0.1038\n",
      "Epoch 59/100\n",
      "3000/3000 [==============================] - 0s 33us/sample - loss: 0.1089\n",
      "Epoch 60/100\n",
      "3000/3000 [==============================] - 0s 43us/sample - loss: 0.1062\n",
      "Epoch 61/100\n",
      "3000/3000 [==============================] - 0s 43us/sample - loss: 0.1058\n",
      "Epoch 62/100\n",
      "3000/3000 [==============================] - 0s 43us/sample - loss: 0.1070\n",
      "Epoch 63/100\n",
      "3000/3000 [==============================] - 0s 45us/sample - loss: 0.1068\n",
      "Epoch 64/100\n",
      "3000/3000 [==============================] - 0s 36us/sample - loss: 0.1105\n",
      "Epoch 65/100\n",
      "3000/3000 [==============================] - 0s 42us/sample - loss: 0.1073\n",
      "Epoch 66/100\n",
      "3000/3000 [==============================] - 0s 43us/sample - loss: 0.1049\n",
      "Epoch 67/100\n",
      "3000/3000 [==============================] - 0s 40us/sample - loss: 0.1031\n",
      "Epoch 68/100\n",
      "3000/3000 [==============================] - 0s 41us/sample - loss: 0.1051\n",
      "Epoch 69/100\n",
      "3000/3000 [==============================] - 0s 42us/sample - loss: 0.1024\n",
      "Epoch 70/100\n",
      "3000/3000 [==============================] - 0s 42us/sample - loss: 0.1030\n",
      "Epoch 71/100\n",
      "3000/3000 [==============================] - 0s 41us/sample - loss: 0.1024\n",
      "Epoch 72/100\n",
      "3000/3000 [==============================] - 0s 36us/sample - loss: 0.1039\n",
      "Epoch 73/100\n",
      "3000/3000 [==============================] - 0s 38us/sample - loss: 0.1016\n",
      "Epoch 74/100\n",
      "3000/3000 [==============================] - 0s 35us/sample - loss: 0.1024\n",
      "Epoch 75/100\n",
      "3000/3000 [==============================] - 0s 45us/sample - loss: 0.1014\n",
      "Epoch 76/100\n",
      "3000/3000 [==============================] - 0s 48us/sample - loss: 0.1052\n",
      "Epoch 77/100\n",
      "3000/3000 [==============================] - 0s 42us/sample - loss: 0.1025\n",
      "Epoch 78/100\n",
      "3000/3000 [==============================] - 0s 38us/sample - loss: 0.1067\n",
      "Epoch 79/100\n",
      "3000/3000 [==============================] - 0s 43us/sample - loss: 0.1032\n",
      "Epoch 80/100\n",
      "3000/3000 [==============================] - 0s 49us/sample - loss: 0.1016\n",
      "Epoch 81/100\n",
      "3000/3000 [==============================] - 0s 35us/sample - loss: 0.1032\n",
      "Epoch 82/100\n",
      "3000/3000 [==============================] - 0s 20us/sample - loss: 0.1093\n",
      "Epoch 83/100\n",
      "3000/3000 [==============================] - 0s 25us/sample - loss: 0.1014\n",
      "Epoch 84/100\n",
      "3000/3000 [==============================] - 0s 25us/sample - loss: 0.1036\n",
      "Epoch 85/100\n",
      "3000/3000 [==============================] - 0s 36us/sample - loss: 0.1036\n",
      "Epoch 86/100\n",
      "3000/3000 [==============================] - 0s 30us/sample - loss: 0.1057\n",
      "Epoch 87/100\n",
      "3000/3000 [==============================] - 0s 32us/sample - loss: 0.1035\n",
      "Epoch 88/100\n",
      "3000/3000 [==============================] - 0s 34us/sample - loss: 0.1049\n",
      "Epoch 89/100\n",
      "3000/3000 [==============================] - 0s 40us/sample - loss: 0.1056\n",
      "Epoch 90/100\n",
      "3000/3000 [==============================] - 0s 35us/sample - loss: 0.1020\n",
      "Epoch 91/100\n",
      "3000/3000 [==============================] - 0s 38us/sample - loss: 0.1024\n",
      "Epoch 92/100\n",
      "3000/3000 [==============================] - 0s 36us/sample - loss: 0.1028\n",
      "Epoch 93/100\n",
      "3000/3000 [==============================] - 0s 37us/sample - loss: 0.1030\n"
     ]
    },
    {
     "name": "stdout",
     "output_type": "stream",
     "text": [
      "Epoch 94/100\n",
      "3000/3000 [==============================] - 0s 37us/sample - loss: 0.1060\n",
      "Epoch 95/100\n",
      "3000/3000 [==============================] - 0s 32us/sample - loss: 0.1153\n",
      "Epoch 96/100\n",
      "3000/3000 [==============================] - 0s 35us/sample - loss: 0.1082\n",
      "Epoch 97/100\n",
      "3000/3000 [==============================] - 0s 34us/sample - loss: 0.1038\n",
      "Epoch 98/100\n",
      "3000/3000 [==============================] - 0s 37us/sample - loss: 0.1012\n",
      "Epoch 99/100\n",
      "3000/3000 [==============================] - 0s 31us/sample - loss: 0.1048\n",
      "Epoch 100/100\n",
      "3000/3000 [==============================] - 0s 31us/sample - loss: 0.1107\n"
     ]
    }
   ],
   "source": [
    "tf.random.set_seed(2)\n",
    "history = model.fit(x, y, epochs=100, batch_size=100)"
   ]
  },
  {
   "cell_type": "code",
   "execution_count": 184,
   "metadata": {},
   "outputs": [
    {
     "data": {
      "image/png": "[encoded data removed]",
      "text/plain": [
       "<Figure size 432x288 with 1 Axes>"
      ]
     },
     "metadata": {
      "needs_background": "light"
     },
     "output_type": "display_data"
    }
   ],
   "source": [
    "plt.plot(history.history['loss'])\n",
    "plt.show()"
   ]
  },
  {
   "cell_type": "code",
   "execution_count": 185,
   "metadata": {},
   "outputs": [
    {
     "data": {
      "image/png": "[encoded data removed]",
      "text/plain": [
       "<Figure size 432x288 with 1 Axes>"
      ]
     },
     "metadata": {
      "needs_background": "light"
     },
     "output_type": "display_data"
    }
   ],
   "source": [
    "plt.scatter(x.squeeze(), model.predict(x).squeeze(), label='predictions', zorder=2)\n",
    "plt.scatter(x.squeeze(), y.squeeze(), label='data', zorder=1)\n",
    "plt.legend()\n",
    "plt.show()"
   ]
  },
  {
   "cell_type": "code",
   "execution_count": null,
   "metadata": {},
   "outputs": [],
   "source": []
  },
  {
   "cell_type": "code",
   "execution_count": null,
   "metadata": {},
   "outputs": [],
   "source": []
  }
 ],
 "metadata": {
  "@webio": {
   "lastCommId": null,
   "lastKernelId": null
  },
  "kernelspec": {
   "display_name": "Python 3",
   "language": "python",
   "name": "python3"
  },
  "language_info": {
   "codemirror_mode": {
    "name": "ipython",
    "version": 3
   },
   "file_extension": ".py",
   "mimetype": "text/x-python",
   "name": "python",
   "nbconvert_exporter": "python",
   "pygments_lexer": "ipython3",
   "version": "3.6.8"
  }
 },
 "nbformat": 4,
 "nbformat_minor": 2
}
