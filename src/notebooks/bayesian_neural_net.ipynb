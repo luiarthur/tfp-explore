{
 "cells": [
  {
   "cell_type": "code",
   "execution_count": 1,
   "metadata": {},
   "outputs": [
    {
     "name": "stdout",
     "output_type": "stream",
     "text": [
      "Last updated on Thu Sep 19 11:05:40 PDT 2019\r\n"
     ]
    }
   ],
   "source": [
    "print('Last updated on', end=' ')\n",
    "!date"
   ]
  },
  {
   "cell_type": "code",
   "execution_count": 2,
   "metadata": {},
   "outputs": [
    {
     "data": {
      "text/html": [
       "<script>\n",
       "code_show=false; \n",
       "function code_toggle() {\n",
       " if (code_show){\n",
       " $('div.input').hide();\n",
       " } else {\n",
       " $('div.input').show();\n",
       " }\n",
       " code_show = !code_show\n",
       "} \n",
       "$( document ).ready(code_toggle);\n",
       "</script>\n",
       "<form action=\"javascript:code_toggle()\">\n",
       "<input type=\"submit\" value=\"Click here to toggle on/off the raw code.\">\n",
       "</form>"
      ],
      "text/plain": [
       "<IPython.core.display.HTML object>"
      ]
     },
     "execution_count": 2,
     "metadata": {},
     "output_type": "execute_result"
    }
   ],
   "source": [
    "from IPython.display import HTML\n",
    "\n",
    "HTML('''<script>\n",
    "code_show=false; \n",
    "function code_toggle() {\n",
    " if (code_show){\n",
    " $('div.input').hide();\n",
    " } else {\n",
    " $('div.input').show();\n",
    " }\n",
    " code_show = !code_show\n",
    "} \n",
    "$( document ).ready(code_toggle);\n",
    "</script>\n",
    "<form action=\"javascript:code_toggle()\">\n",
    "<input type=\"submit\" value=\"Click here to toggle on/off the raw code.\">\n",
    "</form>''')"
   ]
  },
  {
   "cell_type": "markdown",
   "metadata": {},
   "source": [
    "# Bayesian Neural Network with Tensorflow 2 and Tensorflow Probability\n",
    "\n",
    "**Author: Arthur Lui**\n",
    "\n",
    "This notebook provides an introduction to Tensorflow 2 and tensorflow probability.\n",
    "The documentation and examples provide a lot of details. However, some of the inner-workings\n",
    "were not immediately apparent to me. (Things like `DistributionLambda`, `Independent`, and the\n",
    "`DenseVariational`.) So, I hope to provide more details here."
   ]
  },
  {
   "cell_type": "code",
   "execution_count": 3,
   "metadata": {},
   "outputs": [
    {
     "name": "stdout",
     "output_type": "stream",
     "text": [
      "Last updated on Thu Sep 19 11:05:40 PDT 2019\r\n"
     ]
    }
   ],
   "source": [
    "print('Last updated on', end=' ')\n",
    "!date"
   ]
  },
  {
   "cell_type": "code",
   "execution_count": 4,
   "metadata": {},
   "outputs": [],
   "source": [
    "# Libraries for this notebook \n",
    "import sys\n",
    "\n",
    "import matplotlib.pyplot as plt\n",
    "import numpy as np\n",
    "import tensorflow as tf\n",
    "import tensorflow_probability as tfp\n",
    "from tensorflow_probability import distributions as tfd\n",
    "from tqdm import trange"
   ]
  },
  {
   "cell_type": "code",
   "execution_count": 5,
   "metadata": {},
   "outputs": [],
   "source": [
    "# Set random seeds for reproducibility\n",
    "np.random.seed(0)\n",
    "tf.random.set_seed(0)"
   ]
  },
  {
   "cell_type": "markdown",
   "metadata": {},
   "source": [
    "## Helper Functions\n",
    "\n",
    "Here are a few helper functions for this tutorial. It may make more sense \n",
    "to skip these for now and revisit when you see them being used later.\n",
    "\n",
    "###  Useful resources:\n",
    "- [Softplus][1]\n",
    "- Source to [DenseVariational][2] layer\n",
    "- Intro to automatic differentiation variational inference ([ADVI][3])\n",
    "- [Tensorflow probability regression with probablistic layers][4]\n",
    "- [`tfd.Independent`][5]\n",
    "- [`DistributionLambda`][6]\n",
    "- [Writing custom layers and models in TF2][7]\n",
    "\n",
    "[1]: https://en.wikipedia.org/wiki/Rectifier_(neural_networks)#Softplus\n",
    "[2]: https://github.com/tensorflow/probability/blob/master/tensorflow_probability/python/layers/dense_variational_v2.py\n",
    "[3]: https://luiarthur.github.io/statorial/varinf/introvi/\n",
    "[4]: https://github.com/tensorflow/probability/blob/master/tensorflow_probability/examples/jupyter_notebooks/Probabilistic_Layers_Regression.ipynb\n",
    "[5]: https://www.tensorflow.org/probability/api_docs/python/tfp/distributions/Independent\n",
    "[6]: https://www.tensorflow.org/probability/api_docs/python/tfp/layers/DistributionLambda\n",
    "[7]: https://www.tensorflow.org/beta/guide/keras/custom_layers_and_models"
   ]
  },
  {
   "cell_type": "code",
   "execution_count": 6,
   "metadata": {},
   "outputs": [],
   "source": [
    "# This function is used to transform parameters with real support\n",
    "# to have positive support. This is an alternative to exponentiating.\n",
    "def centered_softplus(x, c=np.log(np.expm1(1.)), eps=1e-5):\n",
    "    \"\"\"\n",
    "    `softplus(x)` = $\\log(1 + \\exp(x))$ can be thought of as a smooth reLU.\n",
    "    The centered softplus simply ensures that the returned values is not\n",
    "    only always positive, but also \"centered\" in the sense that \n",
    "    `centered_softplus(0) = 1`. This function is useful for transforming\n",
    "    a parameter with real support to a parameter positive support.\n",
    "    Exponentiating can be numerically unstable, making the  centered \n",
    "    softplus a good alternative.\n",
    "    \"\"\"\n",
    "    return tf.nn.softplus(c + x) + eps\n",
    "\n",
    "\n",
    "# This function is used to compute the loss function (ELBO).\n",
    "def neg_loglike(y, rv_y):\n",
    "    \"\"\"\n",
    "    Compute negative log likelihood given a value (y)\n",
    "    and the distribution (rv_y) of y.\n",
    "    \n",
    "    Arguments:\n",
    "    ==========\n",
    "    y: A realization from the random variable `rv_y`\n",
    "    rv_y (tfp.distributions.Distribution): A random variable.\n",
    "    \n",
    "    Return:\n",
    "    =======\n",
    "    Normalized negative of the log likelihood evaluated at `y`\n",
    "    \"\"\"\n",
    "    return -tf.reduce_mean(rv_y.log_prob(y))\n",
    "\n",
    "\n",
    "# This is used in DenseVariational, and creates a prior distribution\n",
    "# for weights and biases in the neural network. \n",
    "def make_default_dense_prior(kernel_size, bias_size=0, dtype=None,\n",
    "                             prior_mean=0, prior_sd=100):\n",
    "    \"\"\"\n",
    "    Make default priors for a dense variational layer.\n",
    "    \"\"\"\n",
    "    # NOTE: `kernel_size` is expected to be the product of\n",
    "    # the input dimension and number of units in the layer.\n",
    "    # Therefore, n is the total number of parameters in the\n",
    "    # dense layer.\n",
    "    n = kernel_size + bias_size\n",
    "    \n",
    "    # mu is the prior mean, represented as a vector\n",
    "    mu = [prior_mean] * n\n",
    "    \n",
    "    # NOTE:\n",
    "    # The essence of the return is a Normal distribution.\n",
    "    # The Independent class is a light wrapper, which when \n",
    "    # used with the `reinterpreted_batch_ndims=1` argument, \n",
    "    # makes the resulting instance a multivariate normal.\n",
    "    # This is useful because now calling `_.log_prob(x)`\n",
    "    # will return a scalar, instead of a vector which needs\n",
    "    # to be summed.\n",
    "    # `DistributionLambda` is also a light wrapper for distributions.\n",
    "    # It enables the wrapped distribution to be represented by \n",
    "    # a random draw. Note here, because the prior is not affected \n",
    "    # by any other input, the lambda provided disregards the input. \n",
    "    return tfp.layers.DistributionLambda(lambda _: tfd.Independent(\n",
    "        tfd.Normal(loc=mu, scale=prior_sd),\n",
    "        reinterpreted_batch_ndims=1))\n",
    "\n",
    "\n",
    "# This is used in DenseVariational, and creates a variational distribution\n",
    "# (guide) for weights and biases in the neural network. \n",
    "def make_default_dense_guide(kernel_size, bias_size=0, dtype=None):\n",
    "    # NOTE: `kernel_size` is expected to be the product of\n",
    "    # the input dimension and number of units in the layer.\n",
    "    # Therefore, n is the total number of parameters in the\n",
    "    # dense layer.\n",
    "    n = kernel_size + bias_size\n",
    "    \n",
    "    # Sequential layers, as used in keras.\n",
    "    return tf.keras.Sequential([\n",
    "        # Construct some trainable variational parameters\n",
    "        # of the appropriate data type.\n",
    "        # `VariableLayer(2*n)(None)` returns a length 2xn \n",
    "        # vector of zeros, which are trainable.\n",
    "        tfp.layers.VariableLayer(2 * n, dtype=dtype),\n",
    "        # `DistributionLambda` is also a light wrapper for distributions.\n",
    "        # It enables the wrapped distribution to be represented by \n",
    "        # a random draw. Note here, the input is the variational\n",
    "        # parameters, a 2xn tensor (1-dimensional), and they\n",
    "        # are split into mean and sd parameters.\n",
    "        tfp.layers.DistributionLambda(lambda var_params:\n",
    "            tfd.Independent(\n",
    "                # Note that the variational distribution\n",
    "                # is Normal, and the mean and variance\n",
    "                # are being learned. There are as many \n",
    "                # mean and variances as the are parameters.\n",
    "                tfd.Normal(loc=var_params[:n],\n",
    "                           scale=centered_softplus(var_params[n:])),\n",
    "                reinterpreted_batch_ndims=1\n",
    "            )\n",
    "        ),\n",
    "    ])\n",
    "\n",
    "# See the following demo of the behavior of some of the layers used."
   ]
  },
  {
   "cell_type": "markdown",
   "metadata": {},
   "source": [
    "##  `VariableLayer`\n",
    "\n",
    "Note that an instance of `VariableLayer` returns a trainable layer of zeros.\n",
    "After instantiation, it is ignostic to the input."
   ]
  },
  {
   "cell_type": "code",
   "execution_count": 7,
   "metadata": {},
   "outputs": [
    {
     "name": "stdout",
     "output_type": "stream",
     "text": [
      "tf.Tensor([0. 0. 0. 0. 0. 0. 0. 0. 0. 0.], shape=(10,), dtype=float32)\n",
      "tf.Tensor([0. 0. 0. 0. 0. 0. 0. 0. 0. 0.], shape=(10,), dtype=float32)\n",
      "tf.Tensor([0. 0. 0. 0. 0. 0. 0. 0. 0. 0.], shape=(10,), dtype=float32)\n",
      "tf.Tensor([0. 0. 0. 0. 0. 0. 0. 0. 0. 0.], shape=(10,), dtype=float32)\n"
     ]
    }
   ],
   "source": [
    "# Instantiate a variable layer\n",
    "variable_layer = tfp.layers.VariableLayer(10)\n",
    "\n",
    "# Note that the created object is ignostic to the input.\n",
    "# It always returns a tensor of zeros, of length 10.\n",
    "# This tensor is trainable.\n",
    "print(variable_layer([1,2,3]))\n",
    "print(variable_layer(None))\n",
    "print(variable_layer(1))\n",
    "print(variable_layer('abc'))"
   ]
  },
  {
   "cell_type": "markdown",
   "metadata": {},
   "source": [
    "###  `tfd.Independent`\n",
    "\n"
   ]
  },
  {
   "cell_type": "code",
   "execution_count": 8,
   "metadata": {},
   "outputs": [
    {
     "name": "stdout",
     "output_type": "stream",
     "text": [
      "z.batch_shape: (2,)\n",
      "ind.batch_shape: ()\n",
      "\n",
      "z.log_prob([1, 2]): [-198.61635     -2.2257915]\n",
      "ind.log_prob([1, 2]): -200.84213256835938\n",
      "\n",
      "sum(z.log_prob([1, 2])): -200.84213256835938\n",
      "ind.log_prob([1, 2]): -200.84213256835938\n",
      "\n",
      "z.sample(): [-0.84889376  1.2114611 ]\n",
      "ind.sample(): [-0.893312   1.0972747]\n"
     ]
    }
   ],
   "source": [
    "# Create two random variables z, which have\n",
    "# mean [-1, 1] and sd [.1, .5] respectively\n",
    "z = tfd.Normal(loc=[-1., 1], scale=[0.1, 0.5])\n",
    "\n",
    "# Group the two random variables into one RV,\n",
    "# effectively making it a multivariate normal \n",
    "# distribution with independence between each component.\n",
    "# `reinterpreted_batch_ndims` defaults to 0, in which\n",
    "# case `Independent(z) = z`. Changing `reinterpreted_batch_ndims=1`\n",
    "# causes the grouping.\n",
    "ind = tfd.Independent(z, reinterpreted_batch_ndims=1)\n",
    "\n",
    "# Note the differences in the interpreted shapes\n",
    "print('z.batch_shape: {}'.format(z.batch_shape))\n",
    "print('ind.batch_shape: {}'.format(ind.batch_shape))\n",
    "print()\n",
    "\n",
    "# Note that in the independent (multivariate) RV, \n",
    "# log_prob is the sum of the individual log_prob's.\n",
    "print('z.log_prob([1, 2]): {}'.format(z.log_prob([1, 2])))\n",
    "print('ind.log_prob([1, 2]): {}'.format(ind.log_prob([1, 2])))\n",
    "print()\n",
    "\n",
    "# This confirms the previous comment.\n",
    "print('sum(z.log_prob([1, 2])): {}'.format(sum(z.log_prob([1, 2]))))\n",
    "print('ind.log_prob([1, 2]): {}'.format(ind.log_prob([1, 2])))\n",
    "print()\n",
    "\n",
    "print('z.sample(): {}'.format(z.sample()))\n",
    "print('ind.sample(): {}'.format(ind.sample()))"
   ]
  },
  {
   "cell_type": "markdown",
   "metadata": {},
   "source": [
    "###  `DistributionLambda`\n",
    "\n",
    "This is a thin wrapper on a `tfp.distributions.Distribution`.\n",
    "\n",
    "> Since subsequent Keras layers are functions of tensors, a `DistributionLambda`\n",
    "> also defines how the `tfp.distributions.Distribution` shall be \"concretized\"\n",
    "> as a tensor. By default, a distribution is represented as a tensor via a\n",
    "> random draw, e.g., `tfp.distributions.Distribution.sample`. Alternatively the\n",
    "> user may provide a `callable` taking the distribution instance and producing a\n",
    "> `tf.Tensor`."
   ]
  },
  {
   "cell_type": "markdown",
   "metadata": {},
   "source": [
    "### [`DenseVariational` Layer][1]\n",
    "\n",
    "In a Bayesian model, a `DenseVariational` layer is analogous to the `Dense` layer in a\n",
    "non-Bayesian model. `DenseVariational` requires a prior and variational distribution\n",
    "(guide here and throughout, for brevity). This site provides an introduction \n",
    "to [automatic differentiation variational inference (ADVI)][2].\n",
    "\n",
    "ELBO = $\\text{E}_{q(\\theta;\\phi)}\\left[\\log p(\\text{data}\\mid\\theta) + \\log p(\\theta) - \\log q(\\theta;\\phi) \\right]$\n",
    "= $\\text{E}_{q(\\theta;\\phi)}\\left[\\log p(\\text{data}\\mid\\theta)\\right] - \\text{KL}(q(\\theta)||p(\\theta))$\n",
    "\n",
    "The ELBO, an expectation, is approximated via one Monte Carlo sample from the guide\n",
    "$q(\\theta; \\phi)$. The guide parameters $\\phi$ are learned so as to maximize ELBO. \n",
    "\n",
    "For numerical stability, it is typical to optimize the ELBO normalized by \n",
    "the number of observations. It is possible to compute the log likelihood based\n",
    "on mini-batches (as in stochastic gradient descent). The `kl_weight` argument scales\n",
    "the KL divergence term ($\\text{KL}(q(\\theta)||p(\\theta))$) by the \n",
    "number of observations for consistency when using mini-batches.\n",
    "\n",
    "[1]: https://github.com/tensorflow/probability/blob/master/tensorflow_probability/python/layers/dense_variational_v2.py\n",
    "[2]: https://luiarthur.github.io/statorial/varinf/introvi/"
   ]
  },
  {
   "cell_type": "code",
   "execution_count": 9,
   "metadata": {},
   "outputs": [],
   "source": [
    "# See:\n",
    "# help(tfp.layers.DistributionLambda)"
   ]
  },
  {
   "cell_type": "code",
   "execution_count": 10,
   "metadata": {},
   "outputs": [],
   "source": [
    "# Define a helper function to simulate complex data.\n",
    "def simulate_data(x=None, shape=None, sd=0, dtype='float32', seed=None):\n",
    "    assert not (x is None and shape is None)\n",
    "    \n",
    "    if not seed is None:\n",
    "        np.random.seed(seed)\n",
    "        \n",
    "    \n",
    "    if x is None:\n",
    "        x = np.random.randn(*shape)\n",
    "    \n",
    "    x = x.astype(dtype)\n",
    "    \n",
    "    # y = (0.5 * x) ** 2 + np.sin(x * 8)\n",
    "    y = (0.5 * x) ** 2 + np.sin(x * 4)\n",
    "    \n",
    "    # return x, y + np.random.randn(x.shape[0], 1) * sd\n",
    "    return x, y + np.random.randn(x.shape[0], 1) * sd * np.abs(x * 2)"
   ]
  },
  {
   "cell_type": "code",
   "execution_count": 11,
   "metadata": {},
   "outputs": [
    {
     "data": {
      "image/png": "[encoded data removed]",
      "text/plain": [
       "<Figure size 432x288 with 1 Axes>"
      ]
     },
     "metadata": {
      "needs_background": "light"
     },
     "output_type": "display_data"
    }
   ],
   "source": [
    "# Simulate data\n",
    "num_obs = 3000\n",
    "sd_true = .3\n",
    "x, y = simulate_data(shape=(num_obs, 1), sd=sd_true, seed=0)\n",
    "\n",
    "# Plot data\n",
    "plt.scatter(x, y)\n",
    "plt.show()"
   ]
  },
  {
   "cell_type": "markdown",
   "metadata": {},
   "source": [
    "***\n",
    "\n",
    "## Non-Bayesian Model"
   ]
  },
  {
   "cell_type": "code",
   "execution_count": 12,
   "metadata": {},
   "outputs": [],
   "source": [
    "# Model (non-bayesian)\n",
    "reg = tf.keras.regularizers.l2(0)\n",
    "act = 'sigmoid'\n",
    "model = tf.keras.Sequential([\n",
    "    tf.keras.layers.Dense(8, kernel_regularizer=reg, activation=act),\n",
    "    tf.keras.layers.Dense(2),\n",
    "    tfp.layers.DistributionLambda(lambda t:\n",
    "        # NOTE: `t[:, :1] != t[:, 0]` and `t[:, 1:] != t[:, 1]`.\n",
    "        # This will be clear by inspecting the shapes.\n",
    "        tfd.Normal(t[:, :1], centered_softplus(t[:, 1:]))\n",
    "    )\n",
    "])\n",
    "    \n",
    "# This needs to be run before `model.summary()`\n",
    "# so that the input shape can be determined.\n",
    "model(x);"
   ]
  },
  {
   "cell_type": "code",
   "execution_count": 13,
   "metadata": {},
   "outputs": [
    {
     "name": "stdout",
     "output_type": "stream",
     "text": [
      "Model: \"sequential\"\n",
      "_________________________________________________________________\n",
      "Layer (type)                 Output Shape              Param #   \n",
      "=================================================================\n",
      "dense (Dense)                multiple                  16        \n",
      "_________________________________________________________________\n",
      "dense_1 (Dense)              multiple                  18        \n",
      "_________________________________________________________________\n",
      "distribution_lambda (Distrib multiple                  0         \n",
      "=================================================================\n",
      "Total params: 34\n",
      "Trainable params: 34\n",
      "Non-trainable params: 0\n",
      "_________________________________________________________________\n"
     ]
    }
   ],
   "source": [
    "# Define optimizer\n",
    "opt = tf.keras.optimizers.Adam(learning_rate=.1)\n",
    "\n",
    "# Compile model\n",
    "model.compile(optimizer=opt, loss=neg_loglike)\n",
    "        \n",
    "# Print model summary\n",
    "model.summary()"
   ]
  },
  {
   "cell_type": "code",
   "execution_count": 14,
   "metadata": {},
   "outputs": [
    {
     "name": "stdout",
     "output_type": "stream",
     "text": [
      "Start time: Thu Sep 19 11:05:42 PDT 2019\n",
      "End time: Thu Sep 19 11:05:46 PDT 2019\n"
     ]
    }
   ],
   "source": [
    "print('Start time:', end=' ')\n",
    "!date\n",
    "\n",
    "# Fit the model\n",
    "model.fit(x, y, epochs=512, batch_size=512, verbose=0)\n",
    "\n",
    "print('End time:', end=' ')\n",
    "!date"
   ]
  },
  {
   "cell_type": "code",
   "execution_count": 15,
   "metadata": {},
   "outputs": [
    {
     "data": {
      "image/png": "[encoded data removed]",
      "text/plain": [
       "<Figure size 432x288 with 1 Axes>"
      ]
     },
     "metadata": {
      "needs_background": "light"
     },
     "output_type": "display_data"
    }
   ],
   "source": [
    "# Plot the loss history\n",
    "plt.plot(model.history.history['loss'])\n",
    "plt.xlabel('iteration')\n",
    "plt.ylabel('loss')\n",
    "plt.show()"
   ]
  },
  {
   "cell_type": "code",
   "execution_count": 16,
   "metadata": {},
   "outputs": [],
   "source": [
    "# Create new locations for prediction\n",
    "num_new_obs = 501\n",
    "x_new = np.linspace(x.min(), x.max(), num_new_obs).reshape(-1, 1).astype('float32')\n",
    "y_new = simulate_data(x_new, sd=sd_true, seed=1)[1].squeeze()"
   ]
  },
  {
   "cell_type": "code",
   "execution_count": 17,
   "metadata": {},
   "outputs": [],
   "source": [
    "# Make predictions at new locations\n",
    "preds = model(x_new)\n",
    "preds_mean = preds.mean().numpy().squeeze()\n",
    "preds_sd = preds.stddev().numpy().squeeze()\n",
    "preds_lower = preds_mean - 1.96 * preds_sd\n",
    "preds_upper = preds_mean + 1.96 * preds_sd"
   ]
  },
  {
   "cell_type": "code",
   "execution_count": 18,
   "metadata": {},
   "outputs": [
    {
     "data": {
      "image/png": "[encoded data removed]",
      "text/plain": [
       "<Figure size 432x288 with 1 Axes>"
      ]
     },
     "metadata": {
      "needs_background": "light"
     },
     "output_type": "display_data"
    }
   ],
   "source": [
    "# Plot y vs x\n",
    "plt.plot(x_new.squeeze(), preds_mean, label='predictions', zorder=2, lw=3, c='steelblue')\n",
    "plt.fill_between(x_new.squeeze(), preds_lower, preds_upper, color='steelblue', alpha=.3, zorder=2)\n",
    "plt.scatter(x.squeeze(), y.squeeze(), label='data', zorder=1, c='orange', s=10)\n",
    "plt.xlabel('x')\n",
    "plt.ylabel('y')\n",
    "plt.title('Non-bayesian model')\n",
    "plt.legend()\n",
    "plt.show()"
   ]
  },
  {
   "cell_type": "code",
   "execution_count": 19,
   "metadata": {},
   "outputs": [
    {
     "name": "stdout",
     "output_type": "stream",
     "text": [
      "Coverage for non-bayesian model: 0.9281437125748503\n"
     ]
    }
   ],
   "source": [
    "# Compute Coverage\n",
    "coverage = np.mean((preds_lower < y_new) & (y_new < preds_upper))\n",
    "print('Coverage for non-bayesian model: {}'.format(coverage))"
   ]
  },
  {
   "cell_type": "markdown",
   "metadata": {},
   "source": [
    "***\n",
    "\n",
    "## Bayesian Model"
   ]
  },
  {
   "cell_type": "code",
   "execution_count": 20,
   "metadata": {},
   "outputs": [],
   "source": [
    "# Bayesian model\n",
    "bayes_model = tf.keras.Sequential([\n",
    "    tfp.layers.DenseVariational(8,\n",
    "                                make_default_dense_guide,\n",
    "                                make_default_dense_prior,\n",
    "                                activation='sigmoid',\n",
    "                                kl_weight=1/num_obs),\n",
    "    tfp.layers.DenseVariational(2,\n",
    "                                make_default_dense_guide,\n",
    "                                make_default_dense_prior,\n",
    "                                kl_weight=1/num_obs),\n",
    "    tfp.layers.DistributionLambda(lambda t:\n",
    "        # NOTE: `t[:, :1] != t[:, 0]` and `t[:, 1:] != t[:, 1]`.\n",
    "        # This will be clear by inspecting the shapes.\n",
    "        tfd.Normal(t[..., :1], centered_softplus(t[..., 1:]))\n",
    "    )\n",
    "])\n",
    "\n",
    "bayes_model(x);"
   ]
  },
  {
   "cell_type": "code",
   "execution_count": 21,
   "metadata": {},
   "outputs": [
    {
     "name": "stdout",
     "output_type": "stream",
     "text": [
      "Model: \"sequential_1\"\n",
      "_________________________________________________________________\n",
      "Layer (type)                 Output Shape              Param #   \n",
      "=================================================================\n",
      "dense_variational (DenseVari multiple                  32        \n",
      "_________________________________________________________________\n",
      "dense_variational_1 (DenseVa multiple                  36        \n",
      "_________________________________________________________________\n",
      "distribution_lambda_1 (Distr multiple                  0         \n",
      "=================================================================\n",
      "Total params: 68\n",
      "Trainable params: 68\n",
      "Non-trainable params: 0\n",
      "_________________________________________________________________\n"
     ]
    }
   ],
   "source": [
    "# Define bayesian optimizer\n",
    "bayes_opt = tf.keras.optimizers.Adam(.1)\n",
    "\n",
    "# Compile model, with negative log likelihood as loss.\n",
    "# Note that the DenseVariaional has info about the prior\n",
    "# and guide. These will be incorporated into the total loss,\n",
    "# just as the regularization terms are incorporated into\n",
    "# the total loss when using a Dense layer.\n",
    "bayes_model.compile(optimizer=bayes_opt, loss=neg_loglike)\n",
    "\n",
    "# Print model summary\n",
    "bayes_model.summary()"
   ]
  },
  {
   "cell_type": "code",
   "execution_count": 22,
   "metadata": {},
   "outputs": [
    {
     "name": "stdout",
     "output_type": "stream",
     "text": [
      "Start time: Thu Sep 19 11:05:47 PDT 2019\n",
      "End time: Thu Sep 19 11:05:52 PDT 2019\n"
     ]
    }
   ],
   "source": [
    "print('Start time:', end=' ')\n",
    "!date\n",
    "\n",
    "# Fit the model\n",
    "bayes_model.fit(x, y, epochs=512, batch_size=512, verbose=0)\n",
    "\n",
    "print('End time:', end=' ')\n",
    "!date"
   ]
  },
  {
   "cell_type": "code",
   "execution_count": 23,
   "metadata": {},
   "outputs": [
    {
     "data": {
      "image/png": "[encoded data removed]",
      "text/plain": [
       "<Figure size 432x288 with 1 Axes>"
      ]
     },
     "metadata": {
      "needs_background": "light"
     },
     "output_type": "display_data"
    }
   ],
   "source": [
    "# Plot the ELBO history\n",
    "plt.plot(bayes_model.history.history['loss'])\n",
    "plt.xlabel('iteration')\n",
    "plt.ylabel('-ELBO / N')\n",
    "plt.show()"
   ]
  },
  {
   "cell_type": "code",
   "execution_count": 24,
   "metadata": {},
   "outputs": [
    {
     "name": "stderr",
     "output_type": "stream",
     "text": [
      "100%|██████████| 201/201 [00:09<00:00, 22.31it/s]\n"
     ]
    }
   ],
   "source": [
    "nsamps = 201\n",
    "bayes_preds = np.stack([bayes_model.predict(x_new).squeeze() for _ in trange(nsamps)], axis=1)\n",
    "bayes_preds_mean = bayes_preds.mean(1)\n",
    "bayes_preds_lower = np.quantile(bayes_preds, .025, 1)\n",
    "bayes_preds_upper = np.quantile(bayes_preds, .975, 1)\n"
   ]
  },
  {
   "cell_type": "code",
   "execution_count": 25,
   "metadata": {},
   "outputs": [
    {
     "data": {
      "image/png": "[encoded data removed]",
      "text/plain": [
       "<Figure size 432x288 with 1 Axes>"
      ]
     },
     "metadata": {
      "needs_background": "light"
     },
     "output_type": "display_data"
    }
   ],
   "source": [
    "# Plot y vs x\n",
    "plt.plot(x_new.squeeze(), bayes_preds_mean, label='predictions', zorder=2, lw=3, c='steelblue')\n",
    "plt.fill_between(x_new.squeeze(), bayes_preds_lower, bayes_preds_upper, color='steelblue', alpha=.3, zorder=2)\n",
    "plt.scatter(x.squeeze(), y.squeeze(), label='data', zorder=1, c='orange', s=10)\n",
    "plt.xlabel('x')\n",
    "plt.ylabel('y')\n",
    "plt.title('Bayesian model')\n",
    "plt.legend()\n",
    "plt.show()"
   ]
  },
  {
   "cell_type": "code",
   "execution_count": 26,
   "metadata": {},
   "outputs": [
    {
     "name": "stdout",
     "output_type": "stream",
     "text": [
      "Coverage for Bayesian model: 0.9041916167664671\n"
     ]
    }
   ],
   "source": [
    "# Compute Coverage\n",
    "bayes_coverage = np.mean((bayes_preds_lower < y_new) & (y_new < bayes_preds_upper))\n",
    "print('Coverage for Bayesian model: {}'.format(bayes_coverage))"
   ]
  },
  {
   "cell_type": "code",
   "execution_count": 27,
   "metadata": {},
   "outputs": [
    {
     "name": "stdout",
     "output_type": "stream",
     "text": [
      "Thu Sep 19 11:06:02 PDT 2019\r\n"
     ]
    }
   ],
   "source": [
    "!date"
   ]
  },
  {
   "cell_type": "code",
   "execution_count": null,
   "metadata": {},
   "outputs": [],
   "source": []
  }
 ],
 "metadata": {
  "@webio": {
   "lastCommId": null,
   "lastKernelId": null
  },
  "kernelspec": {
   "display_name": "Python 3",
   "language": "python",
   "name": "python3"
  },
  "language_info": {
   "codemirror_mode": {
    "name": "ipython",
    "version": 3
   },
   "file_extension": ".py",
   "mimetype": "text/x-python",
   "name": "python",
   "nbconvert_exporter": "python",
   "pygments_lexer": "ipython3",
   "version": "3.6.8"
  }
 },
 "nbformat": 4,
 "nbformat_minor": 2
}
